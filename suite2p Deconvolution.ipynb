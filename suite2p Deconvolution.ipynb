{
 "cells": [
  {
   "cell_type": "code",
   "execution_count": 11,
   "metadata": {},
   "outputs": [],
   "source": [
    "import numpy as np\n",
    "import os\n",
    "import scipy.io\n",
    "from suite2p.extraction import dcnv"
   ]
  },
  {
   "cell_type": "code",
   "execution_count": 12,
   "metadata": {},
   "outputs": [
    {
     "data": {
      "text/plain": [
       "['D:/Pictures/processed/Inhibited response/Naomi/TestFiringRate\\\\FluoTraces.mat']"
      ]
     },
     "execution_count": 12,
     "metadata": {},
     "output_type": "execute_result"
    }
   ],
   "source": [
    "import glob\n",
    "file_list=glob.glob(\"D:/Pictures/processed/Inhibited response/Naomi/TestFiringRate/Fluo*.mat\")\n",
    "file_list"
   ]
  },
  {
   "cell_type": "code",
   "execution_count": 13,
   "metadata": {},
   "outputs": [
    {
     "ename": "IndexError",
     "evalue": "list index out of range",
     "output_type": "error",
     "traceback": [
      "\u001b[1;31m---------------------------------------------------------------------------\u001b[0m",
      "\u001b[1;31mIndexError\u001b[0m                                Traceback (most recent call last)",
      "\u001b[1;32m<ipython-input-13-01d0a71cef31>\u001b[0m in \u001b[0;36m<module>\u001b[1;34m\u001b[0m\n\u001b[0;32m     12\u001b[0m     \u001b[0mspks\u001b[0m \u001b[1;33m=\u001b[0m \u001b[0mdcnv\u001b[0m\u001b[1;33m.\u001b[0m\u001b[0moasis\u001b[0m\u001b[1;33m(\u001b[0m\u001b[0mFc\u001b[0m\u001b[1;33m,\u001b[0m \u001b[0mops\u001b[0m\u001b[1;33m)\u001b[0m\u001b[1;33m\u001b[0m\u001b[1;33m\u001b[0m\u001b[0m\n\u001b[0;32m     13\u001b[0m     \u001b[0mspks2\u001b[0m \u001b[1;33m=\u001b[0m \u001b[0mdcnv\u001b[0m\u001b[1;33m.\u001b[0m\u001b[0moasis\u001b[0m\u001b[1;33m(\u001b[0m\u001b[0mtemp\u001b[0m\u001b[1;33m,\u001b[0m \u001b[0mops\u001b[0m\u001b[1;33m)\u001b[0m\u001b[1;33m\u001b[0m\u001b[1;33m\u001b[0m\u001b[0m\n\u001b[1;32m---> 14\u001b[1;33m     \u001b[0mscipy\u001b[0m\u001b[1;33m.\u001b[0m\u001b[0mio\u001b[0m\u001b[1;33m.\u001b[0m\u001b[0msavemat\u001b[0m\u001b[1;33m(\u001b[0m\u001b[1;34m'Suite2pDeconv'\u001b[0m\u001b[1;33m+\u001b[0m\u001b[0mstr\u001b[0m\u001b[1;33m(\u001b[0m\u001b[0mfile_list\u001b[0m\u001b[1;33m[\u001b[0m\u001b[0mi\u001b[0m\u001b[1;33m]\u001b[0m\u001b[1;33m.\u001b[0m\u001b[0mrsplit\u001b[0m\u001b[1;33m(\u001b[0m\u001b[1;34m'_'\u001b[0m\u001b[1;33m)\u001b[0m\u001b[1;33m[\u001b[0m\u001b[1;36m1\u001b[0m\u001b[1;33m]\u001b[0m\u001b[1;33m.\u001b[0m\u001b[0msplit\u001b[0m\u001b[1;33m(\u001b[0m\u001b[1;34m'.mat'\u001b[0m\u001b[1;33m)\u001b[0m\u001b[1;33m[\u001b[0m\u001b[1;36m0\u001b[0m\u001b[1;33m]\u001b[0m\u001b[1;33m)\u001b[0m\u001b[1;33m+\u001b[0m\u001b[1;34m'.mat'\u001b[0m\u001b[1;33m,\u001b[0m \u001b[0mdict\u001b[0m\u001b[1;33m(\u001b[0m\u001b[0mPreProc\u001b[0m\u001b[1;33m=\u001b[0m\u001b[0mFc\u001b[0m\u001b[1;33m,\u001b[0m \u001b[0mSpikes\u001b[0m\u001b[1;33m=\u001b[0m\u001b[0mspks\u001b[0m\u001b[1;33m,\u001b[0m\u001b[0mSpikes2\u001b[0m\u001b[1;33m=\u001b[0m\u001b[0mspks2\u001b[0m\u001b[1;33m)\u001b[0m\u001b[1;33m)\u001b[0m\u001b[1;33m\u001b[0m\u001b[1;33m\u001b[0m\u001b[0m\n\u001b[0m",
      "\u001b[1;31mIndexError\u001b[0m: list index out of range"
     ]
    }
   ],
   "source": [
    "tau = 2.0 # timescale of indicator\n",
    "fs = 5.0 # sampling rate in Hz\n",
    "baseline = 'maximin'\n",
    "sig_baseline = 3.0 # in bins, standard deviation of gaussian with which to smooth\n",
    "win_baseline = 30.0 # in seconds, window in which to compute max/min filters\n",
    "ops = {'tau': tau, 'fs': fs, 'baseline': baseline, 'sig_baseline': sig_baseline, 'win_baseline': win_baseline, 'batch_size':50}\n",
    "\n",
    "for i in range(0,len(file_list)):\n",
    "    temp=scipy.io.loadmat(file_list[i])\n",
    "    temp=temp['FluorescentTraces']\n",
    "    Fc = dcnv.preprocess(temp,ops)\n",
    "    spks = dcnv.oasis(Fc, ops)\n",
    "    spks2 = dcnv.oasis(temp, ops)\n",
    "    scipy.io.savemat('Suite2pDeconv'+str(file_list[i].rsplit('_')[1].split('.mat')[0])+'.mat', dict(PreProc=Fc, Spikes=spks,Spikes2=spks2))"
   ]
  },
  {
   "cell_type": "code",
   "execution_count": 14,
   "metadata": {},
   "outputs": [],
   "source": [
    "scipy.io.savemat('D:/Pictures/processed/Inhibited response/Naomi/TestFiringRate/Suite2pDeconv.mat', dict(PreProc=Fc, Spikes=spks,Spikes2=spks2))"
   ]
  },
  {
   "cell_type": "code",
   "execution_count": null,
   "metadata": {},
   "outputs": [],
   "source": []
  }
 ],
 "metadata": {
  "kernelspec": {
   "display_name": "Python 3",
   "language": "python",
   "name": "python3"
  },
  "language_info": {
   "codemirror_mode": {
    "name": "ipython",
    "version": 3
   },
   "file_extension": ".py",
   "mimetype": "text/x-python",
   "name": "python",
   "nbconvert_exporter": "python",
   "pygments_lexer": "ipython3",
   "version": "3.7.7"
  }
 },
 "nbformat": 4,
 "nbformat_minor": 4
}
