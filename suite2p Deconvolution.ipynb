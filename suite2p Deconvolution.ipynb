{
 "cells": [
  {
   "cell_type": "code",
   "execution_count": 16,
   "metadata": {},
   "outputs": [],
   "source": [
    "import numpy as np\n",
    "import os\n",
    "import scipy.io\n",
    "from suite2p.extraction import dcnv"
   ]
  },
  {
   "cell_type": "code",
   "execution_count": 12,
   "metadata": {},
   "outputs": [],
   "source": [
    "import glob\n",
    "file_list=glob.glob(\"d:/Pictures/processed/Inhibited response\\\\Artificial\\\\Fluo*.mat\")"
   ]
  },
  {
   "cell_type": "code",
   "execution_count": 22,
   "metadata": {},
   "outputs": [],
   "source": [
    "tau = 2.0 # timescale of indicator\n",
    "fs = 5.0 # sampling rate in Hz\n",
    "baseline = 'maximin'\n",
    "sig_baseline = 3.0 # in bins, standard deviation of gaussian with which to smooth\n",
    "win_baseline = 30.0 # in seconds, window in which to compute max/min filters\n",
    "ops = {'tau': tau, 'fs': fs, 'baseline': baseline, 'sig_baseline': sig_baseline, 'win_baseline': win_baseline, 'batch_size':50}\n",
    "\n",
    "for i in range(0,10):\n",
    "    temp=scipy.io.loadmat(file_list[i])\n",
    "    temp=temp['FluorescentTraces']\n",
    "    Fc = dcnv.preprocess(temp,ops)\n",
    "    spks = dcnv.oasis(Fc, ops)\n",
    "    spks2 = dcnv.oasis(temp, ops)\n",
    "    scipy.io.savemat('Suite2pDeconv'+str(i+1)+'b.mat', dict(PreProc=Fc, Spikes=spks,Spikes2=spks2))"
   ]
  },
  {
   "cell_type": "code",
   "execution_count": 19,
   "metadata": {},
   "outputs": [
    {
     "data": {
      "text/plain": [
       "['d:/Pictures/processed/Inhibited response\\\\Artificial\\\\FluoTraces_1.mat',\n",
       " 'd:/Pictures/processed/Inhibited response\\\\Artificial\\\\FluoTraces_2.mat',\n",
       " 'd:/Pictures/processed/Inhibited response\\\\Artificial\\\\FluoTraces_3.mat',\n",
       " 'd:/Pictures/processed/Inhibited response\\\\Artificial\\\\FluoTraces_4.mat',\n",
       " 'd:/Pictures/processed/Inhibited response\\\\Artificial\\\\FluoTraces_5.mat',\n",
       " 'd:/Pictures/processed/Inhibited response\\\\Artificial\\\\FluoTraces_6.mat',\n",
       " 'd:/Pictures/processed/Inhibited response\\\\Artificial\\\\FluoTraces_7.mat',\n",
       " 'd:/Pictures/processed/Inhibited response\\\\Artificial\\\\FluoTraces_8.mat',\n",
       " 'd:/Pictures/processed/Inhibited response\\\\Artificial\\\\FluoTraces_9.mat',\n",
       " 'd:/Pictures/processed/Inhibited response\\\\Artificial\\\\FluoTraces_10.mat']"
      ]
     },
     "execution_count": 19,
     "metadata": {},
     "output_type": "execute_result"
    }
   ],
   "source": [
    "file_list = sorted(file_list,key=lambda x: int(os.path.splitext(x)[0].rsplit('_')[1]))\n",
    "file_list"
   ]
  },
  {
   "cell_type": "code",
   "execution_count": 21,
   "metadata": {},
   "outputs": [
    {
     "data": {
      "text/plain": [
       "['d:/Pictures/processed/Inhibited response\\\\Artificial\\\\FluoTraces_1.mat',\n",
       " 'd:/Pictures/processed/Inhibited response\\\\Artificial\\\\FluoTraces_2.mat',\n",
       " 'd:/Pictures/processed/Inhibited response\\\\Artificial\\\\FluoTraces_3.mat',\n",
       " 'd:/Pictures/processed/Inhibited response\\\\Artificial\\\\FluoTraces_4.mat',\n",
       " 'd:/Pictures/processed/Inhibited response\\\\Artificial\\\\FluoTraces_5.mat',\n",
       " 'd:/Pictures/processed/Inhibited response\\\\Artificial\\\\FluoTraces_6.mat',\n",
       " 'd:/Pictures/processed/Inhibited response\\\\Artificial\\\\FluoTraces_7.mat',\n",
       " 'd:/Pictures/processed/Inhibited response\\\\Artificial\\\\FluoTraces_8.mat',\n",
       " 'd:/Pictures/processed/Inhibited response\\\\Artificial\\\\FluoTraces_9.mat',\n",
       " 'd:/Pictures/processed/Inhibited response\\\\Artificial\\\\FluoTraces_10.mat']"
      ]
     },
     "execution_count": 21,
     "metadata": {},
     "output_type": "execute_result"
    }
   ],
   "source": [
    "file_list"
   ]
  },
  {
   "cell_type": "code",
   "execution_count": 38,
   "metadata": {},
   "outputs": [],
   "source": [
    "import matplotlib.pyplot as plt"
   ]
  },
  {
   "cell_type": "code",
   "execution_count": 46,
   "metadata": {},
   "outputs": [
    {
     "data": {
      "text/plain": [
       "[<matplotlib.lines.Line2D at 0x2a2909faf88>]"
      ]
     },
     "execution_count": 46,
     "metadata": {},
     "output_type": "execute_result"
    },
    {
     "data": {
      "image/png": "[encoded data removed]",
      "text/plain": [
       "<Figure size 432x288 with 1 Axes>"
      ]
     },
     "metadata": {
      "needs_background": "light"
     },
     "output_type": "display_data"
    }
   ],
   "source": [
    "%matplotlib inline\n",
    "plt.plot(spks[0,])"
   ]
  },
  {
   "cell_type": "code",
   "execution_count": null,
   "metadata": {},
   "outputs": [],
   "source": []
  }
 ],
 "metadata": {
  "kernelspec": {
   "display_name": "Python 3",
   "language": "python",
   "name": "python3"
  },
  "language_info": {
   "codemirror_mode": {
    "name": "ipython",
    "version": 3
   },
   "file_extension": ".py",
   "mimetype": "text/x-python",
   "name": "python",
   "nbconvert_exporter": "python",
   "pygments_lexer": "ipython3",
   "version": "3.7.7"
  }
 },
 "nbformat": 4,
 "nbformat_minor": 4
}
